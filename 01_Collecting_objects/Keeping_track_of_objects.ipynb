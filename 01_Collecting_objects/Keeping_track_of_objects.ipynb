{
 "cells": [
  {
   "cell_type": "markdown",
   "metadata": {},
   "source": [
    "# Question: How best to keep track of multiple objects of the same class\n",
    "### Udacity - Intro to Self-Driving Cars. Chapter 3: Working with Matrices. Lesson 3: State and Object-Oriented Programming\n",
    "\n",
    "\n",
    "In the following code, I create multiple Car objects. I want to keep track of them for easy access later in the script - for example, I might find that I want a `for` loop that loops through all instantiated Car objects.\n",
    "\n"
   ]
  },
  {
   "cell_type": "markdown",
   "metadata": {},
   "source": [
    "## Set up"
   ]
  },
  {
   "cell_type": "markdown",
   "metadata": {},
   "source": [
    "**Note**: I am using Python 3 (not Python 2, as in the course). Particular differences might include:\n",
    "* `print()` for Python 3, not `print` for Python 2\n",
    "* `d.items()` for Python 3 (where `d` is a `dict`), not `d.iteritems()` for Python 2"
   ]
  },
  {
   "cell_type": "code",
   "execution_count": 1,
   "metadata": {
    "collapsed": true,
    "scrolled": true
   },
   "outputs": [],
   "source": [
    "# Allow multiple outputs from each code chunk\n",
    "from IPython.core.interactiveshell import InteractiveShell \n",
    "InteractiveShell.ast_node_interactivity = \"all\" # Default value is \"last_expr\"\n",
    "\n",
    "# IPython commands to automatically reload external modules if they change\n",
    "%load_ext autoreload\n",
    "%autoreload 2"
   ]
  },
  {
   "cell_type": "code",
   "execution_count": 2,
   "metadata": {
    "collapsed": true,
    "scrolled": true
   },
   "outputs": [],
   "source": [
    "import numpy as np # For creating and manipulating ndarray objects\n",
    "import matplotlib.pyplot as plt # For plotting\n",
    "from car import Car # See the code for the 'car' class - it is modified to include a static attribute `all_the_cars`\n",
    "import weakref"
   ]
  },
  {
   "cell_type": "code",
   "execution_count": 3,
   "metadata": {
    "collapsed": true
   },
   "outputs": [],
   "source": [
    "world = np.zeros((4, 6)) # Create a retangular world"
   ]
  },
  {
   "cell_type": "markdown",
   "metadata": {},
   "source": [
    "## Create and examine some `Car` objects"
   ]
  },
  {
   "cell_type": "markdown",
   "metadata": {},
   "source": [
    "In the following, I instantiate two `Car` objects. As part of the `__init__` method, I want these objects to be added to the static variable `all_the_cars` of the `Car` class. However, my code produces an error."
   ]
  },
  {
   "cell_type": "code",
   "execution_count": 4,
   "metadata": {
    "collapsed": true,
    "scrolled": true
   },
   "outputs": [],
   "source": [
    "# In practice, I might run this code many times, so I want to first ensure no Cars are left from previous runs\n",
    "Car.all_the_cars = weakref.WeakValueDictionary()\n",
    "\n",
    "# Create some new cars\n",
    "alan_car = Car([0, 0], [0, 1], world, 'm')\n",
    "bruce_car = Car([3, 3], [-2, 1], world, 'w')\n",
    "carla_car = Car([2, 4], [0, -1], world, 'r')"
   ]
  },
  {
   "cell_type": "code",
   "execution_count": 5,
   "metadata": {},
   "outputs": [
    {
     "data": {
      "image/png": "[encoded data removed]",
      "text/plain": [
       "<matplotlib.figure.Figure at 0x1b62b5d9828>"
      ]
     },
     "metadata": {},
     "output_type": "display_data"
    }
   ],
   "source": [
    "alan_car.display_world() # Check it works as usual"
   ]
  },
  {
   "cell_type": "code",
   "execution_count": 6,
   "metadata": {},
   "outputs": [
    {
     "name": "stdout",
     "output_type": "stream",
     "text": [
      "{'car_1': <car.Car object at 0x000001B62C59A1D0>, 'car_2': <car.Car object at 0x000001B62C5974E0>, 'car_3': <car.Car object at 0x000001B62C59A390>}\n",
      "{'car_1': <car.Car object at 0x000001B62C59A1D0>, 'car_2': <car.Car object at 0x000001B62C5974E0>, 'car_3': <car.Car object at 0x000001B62C59A390>}\n",
      "{'car_1': <car.Car object at 0x000001B62C59A1D0>, 'car_2': <car.Car object at 0x000001B62C5974E0>, 'car_3': <car.Car object at 0x000001B62C59A390>}\n",
      "{'car_1': <car.Car object at 0x000001B62C59A1D0>, 'car_2': <car.Car object at 0x000001B62C5974E0>, 'car_3': <car.Car object at 0x000001B62C59A390>}\n"
     ]
    }
   ],
   "source": [
    "# Check that 'all_the_cars' is indeed static (i.e. the same from every object, and accessible from the class)\n",
    "print(dict(Car.all_the_cars))\n",
    "print(dict(alan_car.all_the_cars))\n",
    "print(dict(bruce_car.all_the_cars))\n",
    "print(dict(carla_car.all_the_cars))"
   ]
  },
  {
   "cell_type": "markdown",
   "metadata": {},
   "source": [
    "Yes, all of the above are equal and point to the same instances."
   ]
  },
  {
   "cell_type": "markdown",
   "metadata": {},
   "source": [
    "## Use `all_the_cars`"
   ]
  },
  {
   "cell_type": "markdown",
   "metadata": {},
   "source": [
    "For example, I'd like to loop through all `Car` objects that have been created, to move them twice and then display their worlds."
   ]
  },
  {
   "cell_type": "code",
   "execution_count": 7,
   "metadata": {},
   "outputs": [
    {
     "name": "stdout",
     "output_type": "stream",
     "text": [
      "World of car with ID: car_1\n"
     ]
    },
    {
     "data": {
      "image/png": "[encoded data removed]",
      "text/plain": [
       "<matplotlib.figure.Figure at 0x1b62c89c940>"
      ]
     },
     "metadata": {},
     "output_type": "display_data"
    },
    {
     "name": "stdout",
     "output_type": "stream",
     "text": [
      "World of car with ID: car_2\n"
     ]
    },
    {
     "data": {
      "image/png": "[encoded data removed]",
      "text/plain": [
       "<matplotlib.figure.Figure at 0x1b62cbaceb8>"
      ]
     },
     "metadata": {},
     "output_type": "display_data"
    },
    {
     "name": "stdout",
     "output_type": "stream",
     "text": [
      "World of car with ID: car_3\n"
     ]
    },
    {
     "data": {
      "image/png": "[encoded data removed]",
      "text/plain": [
       "<matplotlib.figure.Figure at 0x1b62cbe2ba8>"
      ]
     },
     "metadata": {},
     "output_type": "display_data"
    }
   ],
   "source": [
    "for car_id, car_obj in Car.all_the_cars.items():\n",
    "    car_obj.move()\n",
    "    car_obj.move()\n",
    "    print('World of car with ID: ' + car_id); car_obj.display_world()"
   ]
  },
  {
   "cell_type": "markdown",
   "metadata": {},
   "source": [
    "## Remove a car"
   ]
  },
  {
   "cell_type": "markdown",
   "metadata": {},
   "source": [
    "### Attempt 1"
   ]
  },
  {
   "cell_type": "code",
   "execution_count": 8,
   "metadata": {
    "collapsed": true
   },
   "outputs": [],
   "source": [
    "del alan_car"
   ]
  },
  {
   "cell_type": "code",
   "execution_count": 9,
   "metadata": {},
   "outputs": [
    {
     "name": "stdout",
     "output_type": "stream",
     "text": [
      "Success! The object alan_car no longer exists\n"
     ]
    }
   ],
   "source": [
    "try:\n",
    "    alan_car.all_the_cars\n",
    "except:\n",
    "    print('Success! The object alan_car no longer exists')"
   ]
  },
  {
   "cell_type": "markdown",
   "metadata": {},
   "source": [
    "We want `'car_1'` to disappear from `Car.all_the_cars` - does it?"
   ]
  },
  {
   "cell_type": "code",
   "execution_count": 10,
   "metadata": {},
   "outputs": [
    {
     "name": "stdout",
     "output_type": "stream",
     "text": [
      "{'car_2': <car.Car object at 0x000001B62C5974E0>, 'car_3': <car.Car object at 0x000001B62C59A390>}\n",
      "{'car_2': <car.Car object at 0x000001B62C5974E0>, 'car_3': <car.Car object at 0x000001B62C59A390>}\n"
     ]
    }
   ],
   "source": [
    "print(dict(Car.all_the_cars))\n",
    "print(dict(carla_car.all_the_cars))"
   ]
  },
  {
   "cell_type": "markdown",
   "metadata": {},
   "source": [
    "Yes! `'car_1'` has been automatically removed."
   ]
  },
  {
   "cell_type": "markdown",
   "metadata": {},
   "source": [
    "### Attempt 2"
   ]
  },
  {
   "cell_type": "code",
   "execution_count": 11,
   "metadata": {
    "scrolled": true
   },
   "outputs": [
    {
     "data": {
      "text/plain": [
       "{'car_2': <car.Car at 0x1b62c5974e0>, 'car_3': <car.Car at 0x1b62c59a390>}"
      ]
     },
     "execution_count": 11,
     "metadata": {},
     "output_type": "execute_result"
    }
   ],
   "source": [
    "# Have another look at all_the_cars\n",
    "{key: item for key, item in bruce_car.all_the_cars.items()}"
   ]
  },
  {
   "cell_type": "code",
   "execution_count": 12,
   "metadata": {
    "collapsed": true
   },
   "outputs": [],
   "source": [
    "# Delete another car object, by the same method as above\n",
    "del bruce_car"
   ]
  },
  {
   "cell_type": "code",
   "execution_count": 13,
   "metadata": {
    "scrolled": true
   },
   "outputs": [
    {
     "name": "stdout",
     "output_type": "stream",
     "text": [
      "{'car_2': <car.Car object at 0x000001B62C5974E0>, 'car_3': <car.Car object at 0x000001B62C59A390>}\n"
     ]
    }
   ],
   "source": [
    "# Check `car_2` has been removed from all_the_cars\n",
    "print(dict(Car.all_the_cars))"
   ]
  },
  {
   "cell_type": "markdown",
   "metadata": {},
   "source": [
    "No! `'car_2'` is still a member of `all_the_cars`, despite the object referenced by `bruce_car` having been deleted. :(  \n",
    "What has gone wrong?"
   ]
  },
  {
   "cell_type": "markdown",
   "metadata": {},
   "source": [
    "Note that iPython keeps a record of the results of each of the previous code chunks (see: <https://stackoverflow.com/questions/27952428/programmatically-get-current-ipython-notebook-cell-output>). So there is *still* a reference to the `car` object..."
   ]
  },
  {
   "cell_type": "code",
   "execution_count": 14,
   "metadata": {},
   "outputs": [
    {
     "data": {
      "text/plain": [
       "'some output'"
      ]
     },
     "execution_count": 14,
     "metadata": {},
     "output_type": "execute_result"
    },
    {
     "data": {
      "text/plain": [
       "'more output'"
      ]
     },
     "execution_count": 14,
     "metadata": {},
     "output_type": "execute_result"
    },
    {
     "data": {
      "text/plain": [
       "'even more output'"
      ]
     },
     "execution_count": 14,
     "metadata": {},
     "output_type": "execute_result"
    },
    {
     "data": {
      "text/plain": [
       "'even more output'"
      ]
     },
     "execution_count": 14,
     "metadata": {},
     "output_type": "execute_result"
    },
    {
     "data": {
      "text/plain": [
       "'more output'"
      ]
     },
     "execution_count": 14,
     "metadata": {},
     "output_type": "execute_result"
    }
   ],
   "source": [
    "'some output'\n",
    "'more output'\n",
    "'even more output'\n",
    "_ # Refers to the last \"Out\" statement. IGNORES any 'print' outputs\n",
    "___ # Three underscores is the output three \"Out\" statements ago"
   ]
  },
  {
   "cell_type": "code",
   "execution_count": 15,
   "metadata": {
    "scrolled": false
   },
   "outputs": [
    {
     "name": "stdout",
     "output_type": "stream",
     "text": [
      "{'car_2': <car.Car object at 0x000001B62C5974E0>, 'car_3': <car.Car object at 0x000001B62C59A390>}\n"
     ]
    },
    {
     "data": {
      "image/png": "[encoded data removed]",
      "text/plain": [
       "<matplotlib.figure.Figure at 0x1b62cc406d8>"
      ]
     },
     "metadata": {},
     "output_type": "display_data"
    }
   ],
   "source": [
    "print(_11) # Refers to object from \"Out[11]\"\n",
    "temp_only = Out[11]['car_2'].display_world() # You see that we can STILL access this car object"
   ]
  },
  {
   "cell_type": "code",
   "execution_count": 16,
   "metadata": {},
   "outputs": [],
   "source": [
    "_11 = None # Remove reference to 'car_2' object"
   ]
  },
  {
   "cell_type": "code",
   "execution_count": 17,
   "metadata": {},
   "outputs": [
    {
     "data": {
      "text/plain": [
       "{'car_2': <car.Car at 0x1b62c5974e0>, 'car_3': <car.Car at 0x1b62c59a390>}"
      ]
     },
     "execution_count": 17,
     "metadata": {},
     "output_type": "execute_result"
    }
   ],
   "source": [
    "Out[11] # ANTOHER way of referencing previous output"
   ]
  },
  {
   "cell_type": "code",
   "execution_count": 18,
   "metadata": {
    "scrolled": true
   },
   "outputs": [
    {
     "name": "stdout",
     "output_type": "stream",
     "text": [
      "{'car_2': <car.Car object at 0x000001B62C5974E0>, 'car_3': <car.Car object at 0x000001B62C59A390>}\n"
     ]
    }
   ],
   "source": [
    "print(dict(Car.all_the_cars))"
   ]
  },
  {
   "cell_type": "markdown",
   "metadata": {},
   "source": [
    "We see that `'car_2'` is *still* a member of `all_the_cars`, despite trying to delete all the references. Further experimentation suggests this is going to be a fruitless exercise - better off deleting the `'car_2'` item from `all_the_cars`."
   ]
  },
  {
   "cell_type": "markdown",
   "metadata": {},
   "source": [
    "We *should* be able to do it with the iPython magic command `%xdel` (<https://ipython.readthedocs.io/en/stable/interactive/magics.html#magic-xdel>)..."
   ]
  },
  {
   "cell_type": "code",
   "execution_count": 19,
   "metadata": {},
   "outputs": [],
   "source": [
    "%xdel carla_car"
   ]
  },
  {
   "cell_type": "code",
   "execution_count": 20,
   "metadata": {
    "scrolled": false
   },
   "outputs": [
    {
     "name": "stdout",
     "output_type": "stream",
     "text": [
      "{'car_2': <car.Car object at 0x000001B62C5974E0>, 'car_3': <car.Car object at 0x000001B62C59A390>}\n"
     ]
    }
   ],
   "source": [
    "print(dict(Car.all_the_cars))"
   ]
  },
  {
   "cell_type": "markdown",
   "metadata": {},
   "source": [
    "...but `car_3` *still* exists. Could go further into the weeds (e.g. looking into garbage collection using `gc` module), but it's safe to conclude this is not easy (and therefore not a good way of doing what I want to do)."
   ]
  },
  {
   "cell_type": "markdown",
   "metadata": {},
   "source": [
    "### More `iPython` notes"
   ]
  },
  {
   "cell_type": "code",
   "execution_count": 21,
   "metadata": {},
   "outputs": [
    {
     "name": "stdout",
     "output_type": "stream",
     "text": [
      "print(_11) # Refers to object from \"Out[11]\"\n",
      "temp_only = Out[11]['car_2'].display_world() # You see that we can STILL access this car object\n"
     ]
    }
   ],
   "source": [
    "print(_i15) # Returns the INPUT from cell 15"
   ]
  },
  {
   "cell_type": "code",
   "execution_count": 22,
   "metadata": {},
   "outputs": [
    {
     "name": "stdout",
     "output_type": "stream",
     "text": [
      "print(_11) # Refers to object from \"Out[11]\"\n",
      "temp_only = Out[11]['car_2'].display_world() # You see that we can STILL access this car object\n"
     ]
    }
   ],
   "source": [
    "print(In[15]) # Same"
   ]
  },
  {
   "cell_type": "code",
   "execution_count": null,
   "metadata": {
    "collapsed": true
   },
   "outputs": [],
   "source": []
  }
 ],
 "metadata": {
  "kernelspec": {
   "display_name": "Python 3",
   "language": "python",
   "name": "python3"
  },
  "language_info": {
   "codemirror_mode": {
    "name": "ipython",
    "version": 3
   },
   "file_extension": ".py",
   "mimetype": "text/x-python",
   "name": "python",
   "nbconvert_exporter": "python",
   "pygments_lexer": "ipython3",
   "version": "3.6.3"
  }
 },
 "nbformat": 4,
 "nbformat_minor": 2
}
